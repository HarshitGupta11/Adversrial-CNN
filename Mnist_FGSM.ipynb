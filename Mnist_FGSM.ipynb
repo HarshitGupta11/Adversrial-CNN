{
  "nbformat": 4,
  "nbformat_minor": 0,
  "metadata": {
    "colab": {
      "name": "Mnist.ipynb",
      "provenance": []
    },
    "kernelspec": {
      "name": "python3",
      "display_name": "Python 3"
    },
    "accelerator": "GPU"
  },
  "cells": [
    {
      "cell_type": "code",
      "metadata": {
        "id": "yZ5qe2dSJumB",
        "colab_type": "code",
        "colab": {}
      },
      "source": [
        "!wget http://yann.lecun.com/exdb/mnist/train-images-idx3-ubyte.gz\n",
        "!wget http://yann.lecun.com/exdb/mnist/train-labels-idx1-ubyte.gz\n",
        "!gunzip train-images-idx3-ubyte.gz\n",
        "!gunzip train-labels-idx1-ubyte.gz\n",
        "!ls -l\n",
        "!pip install idx2numpy"
      ],
      "execution_count": 0,
      "outputs": []
    },
    {
      "cell_type": "code",
      "metadata": {
        "id": "hfOPY1-JJ0d4",
        "colab_type": "code",
        "colab": {}
      },
      "source": [
        "import numpy as np\n",
        "import idx2numpy as idx\n",
        "import matplotlib.pyplot as plt\n",
        "import random\n",
        "import torch.nn as nn\n",
        "import torch.utils as utils\n",
        "import torch"
      ],
      "execution_count": 0,
      "outputs": []
    },
    {
      "cell_type": "code",
      "metadata": {
        "id": "FT5VEiFsJ4fJ",
        "colab_type": "code",
        "colab": {}
      },
      "source": [
        "train_x=idx.convert_from_file(\"train-images-idx3-ubyte\")\n",
        "train_y=idx.convert_from_file(\"train-labels-idx1-ubyte\")\n",
        "train_x=train_x.reshape(60000,28,28,1)\n",
        "train_x=train_x.transpose((0,3,1,2))\n",
        "train_x=train_x.astype(np.float32)\n",
        "train_y=train_y.astype(np.int64)\n",
        "train_x=train_x/255"
      ],
      "execution_count": 0,
      "outputs": []
    },
    {
      "cell_type": "code",
      "metadata": {
        "id": "K-f3OZmRloJM",
        "colab_type": "code",
        "colab": {}
      },
      "source": [
        "from sklearn.model_selection import train_test_split\n",
        "features_train, features_test, targets_train, targets_test = train_test_split(train_x,\n",
        "                                                                             train_y,\n",
        "                                                                             test_size = 0.2,\n",
        "                                                                             random_state = 42)"
      ],
      "execution_count": 0,
      "outputs": []
    },
    {
      "cell_type": "code",
      "metadata": {
        "id": "T7SmykDEng91",
        "colab_type": "code",
        "colab": {}
      },
      "source": [
        "batch_size=128\n",
        "features_train = torch.from_numpy(features_train)\n",
        "targets_train = torch.from_numpy(targets_train)\n",
        "features_test = torch.from_numpy(features_test)\n",
        "targets_test = torch.from_numpy(targets_test)\n",
        "train = utils.data.TensorDataset(features_train,targets_train)\n",
        "test = utils.data.TensorDataset(features_test,targets_test)\n",
        "train_loader = utils.data.DataLoader(train, batch_size = batch_size, shuffle = True)\n",
        "test_loader = utils.data.DataLoader(test, batch_size = len(features_test), shuffle = False)"
      ],
      "execution_count": 0,
      "outputs": []
    },
    {
      "cell_type": "code",
      "metadata": {
        "id": "_ke6uTBeAVpN",
        "colab_type": "code",
        "colab": {}
      },
      "source": [
        "class Conv_Model(nn.Module):\n",
        "    def __init__(self):\n",
        "        super(Conv_Model,self).__init__()\n",
        "        self.conv_1=nn.Conv2d(in_channels=1,out_channels=32,kernel_size=3,stride=1)\n",
        "        self.conv_2=nn.Conv2d(in_channels=32,out_channels=64,kernel_size=5,stride=1)\n",
        "        self.mpool=nn.MaxPool2d(2)\n",
        "        self.relu=nn.ReLU()\n",
        "        self.flat=nn.Flatten()\n",
        "        self.dense_1=nn.Linear(64*4*4,120)\n",
        "        self.dense_2=nn.Linear(120,10)\n",
        "\n",
        "    def forward(self,x):\n",
        "        x=self.relu(self.conv_1(x))\n",
        "        x=self.mpool(x)\n",
        "        x=self.relu(self.conv_2(x))\n",
        "        x=self.mpool(x)\n",
        "        x=self.flat(x)\n",
        "        x=self.dense_1(x)\n",
        "        x=self.dense_2(x)\n",
        "        return x\n"
      ],
      "execution_count": 0,
      "outputs": []
    },
    {
      "cell_type": "code",
      "metadata": {
        "id": "E-18WPVVAXNY",
        "colab_type": "code",
        "outputId": "c2fe4fd8-8920-4bc9-8654-3e8412018342",
        "colab": {
          "base_uri": "https://localhost:8080/",
          "height": 351
        }
      },
      "source": [
        "Model=Conv_Model()\n",
        "device = torch.device(\"cuda:0\" if torch.cuda.is_available() else \"cpu\")\n",
        "Model.to(device)\n",
        "loss=nn.CrossEntropyLoss()\n",
        "optimizer=torch.optim.Adam(Model.parameters(),lr=0.00001)\n",
        "num_epochs=20\n",
        "\n",
        "for j in range(num_epochs):\n",
        "    for i,(images,labels) in enumerate(train_loader):\n",
        "        images=torch.autograd.Variable(images).to(device)\n",
        "        labels=torch.autograd.Variable(labels).to(device)\n",
        "\n",
        "        output=Model(images)\n",
        "        l=loss(output,labels)\n",
        "        l.backward()\n",
        "        optimizer.step()\n",
        "    for i,(images,labels) in enumerate(test_loader):\n",
        "        images=torch.autograd.Variable(images).to(device)\n",
        "        labels=torch.autograd.Variable(labels).to(device)\n",
        "        output=Model(images)\n",
        "        l=loss(output,labels)\n",
        "        output=torch.max(output,1)[1]\n",
        "        acc=(output==labels).sum()\n",
        "        acc=float(acc)/len(labels)\n",
        "        print(\"Epoch:{} Acc:{} Loss:{}\".format(j+1,acc,l.data))"
      ],
      "execution_count": 0,
      "outputs": [
        {
          "output_type": "stream",
          "text": [
            "Epoch:1 Acc:0.8031666666666667 Loss:1.4650548696517944\n",
            "Epoch:2 Acc:0.8558333333333333 Loss:0.5332047343254089\n",
            "Epoch:3 Acc:0.8765833333333334 Loss:0.4326862096786499\n",
            "Epoch:4 Acc:0.8798333333333334 Loss:0.4906684160232544\n",
            "Epoch:5 Acc:0.8804166666666666 Loss:0.533950686454773\n",
            "Epoch:6 Acc:0.9111666666666667 Loss:0.3739830255508423\n",
            "Epoch:7 Acc:0.9193333333333333 Loss:0.31411394476890564\n",
            "Epoch:8 Acc:0.92275 Loss:0.2670436501502991\n",
            "Epoch:9 Acc:0.9355833333333333 Loss:0.23408503830432892\n",
            "Epoch:10 Acc:0.9463333333333334 Loss:0.18040411174297333\n",
            "Epoch:11 Acc:0.9551666666666667 Loss:0.1661156415939331\n",
            "Epoch:12 Acc:0.9590833333333333 Loss:0.15378491580486298\n",
            "Epoch:13 Acc:0.9615 Loss:0.1496596783399582\n",
            "Epoch:14 Acc:0.9638333333333333 Loss:0.14104284346103668\n",
            "Epoch:15 Acc:0.9641666666666666 Loss:0.13157355785369873\n",
            "Epoch:16 Acc:0.9673333333333334 Loss:0.1183348074555397\n",
            "Epoch:17 Acc:0.9685 Loss:0.11245077848434448\n",
            "Epoch:18 Acc:0.969 Loss:0.10539961606264114\n",
            "Epoch:19 Acc:0.97225 Loss:0.10156736522912979\n",
            "Epoch:20 Acc:0.9735 Loss:0.09650277346372604\n"
          ],
          "name": "stdout"
        }
      ]
    },
    {
      "cell_type": "code",
      "metadata": {
        "id": "ZWiBiJ3y39Mg",
        "colab_type": "code",
        "colab": {}
      },
      "source": [
        "plt.imshow(train_x[4000].transpose(1,2,0).reshape(28,28))\n",
        "plt.show()"
      ],
      "execution_count": 0,
      "outputs": []
    },
    {
      "cell_type": "code",
      "metadata": {
        "id": "fWtuJFNuPAUA",
        "colab_type": "code",
        "colab": {}
      },
      "source": [
        "epsilon=0.0001\n",
        "def fgsm(data,image):\n",
        "    data_grad_sign=data.sign()\n",
        "    n_image=image+epsilon*data_grad_sign\n",
        "    n_image=torch.clamp(n_image,0,1)\n",
        "    return n_image"
      ],
      "execution_count": 0,
      "outputs": []
    },
    {
      "cell_type": "code",
      "metadata": {
        "id": "CX0gvSbZRO00",
        "colab_type": "code",
        "colab": {}
      },
      "source": [
        "perturbed_images=[]\n",
        "for k in range(5000):\n",
        "    sample=random.randrange(60000)\n",
        "    image_data=train_x[sample]\n",
        "    target_original=train_y[sample]\n",
        "    image_data_true=train_x[sample].reshape(28,28)\n",
        "    while(1):\n",
        "        target=random.randrange(10)\n",
        "        if target!=train_y[sample]:\n",
        "            target=[target]\n",
        "            break\n",
        "    for i in range(100):\n",
        "        data=torch.autograd.Variable(torch.tensor(image_data.reshape(1,1,28,28))).to(device)\n",
        "        data.requires_grad=True\n",
        "        label=torch.autograd.Variable(torch.tensor(np.array(target))).to(device)\n",
        "        output=Model(data)\n",
        "        l=loss(output,label)\n",
        "        Model.zero_grad()\n",
        "        l.backward()\n",
        "        new_image=fgsm(data.grad.data,data)\n",
        "        temp=new_image.data.cpu().numpy().reshape(28,28)\n",
        "        if output.max(1)[1].cpu().data.numpy()[0]!=target_original:\n",
        "            print(output.max(1)[1])\n",
        "            plt.figure(figsize=(1,1))\n",
        "            plt.imshow(temp,cmap=\"gray\",vmin=0,vmax=1)\n",
        "            plt.show()\n",
        "            print(np.sum(np.abs(image_data_true-temp)))\n",
        "            perturbed_images.append({\"image\":temp,\"original_label\":target_original})\n",
        "            break\n",
        "        image_data=temp\n"
      ],
      "execution_count": 0,
      "outputs": []
    },
    {
      "cell_type": "code",
      "metadata": {
        "id": "-skroaBxyPQz",
        "colab_type": "code",
        "colab": {}
      },
      "source": [
        ""
      ],
      "execution_count": 0,
      "outputs": []
    },
    {
      "cell_type": "code",
      "metadata": {
        "id": "dZ6K4PgxzHiu",
        "colab_type": "code",
        "colab": {}
      },
      "source": [
        ""
      ],
      "execution_count": 0,
      "outputs": []
    },
    {
      "cell_type": "code",
      "metadata": {
        "id": "X0EcO0I15Vh1",
        "colab_type": "code",
        "colab": {}
      },
      "source": [
        ""
      ],
      "execution_count": 0,
      "outputs": []
    }
  ]
}